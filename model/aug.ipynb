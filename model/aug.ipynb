{
 "cells": [
  {
   "cell_type": "code",
   "execution_count": 3,
   "metadata": {},
   "outputs": [],
   "source": [
    "import cv2\n",
    "import numpy as np\n",
    "import random\n",
    "import os"
   ]
  },
  {
   "cell_type": "code",
   "execution_count": 3,
   "metadata": {},
   "outputs": [
    {
     "name": "stdout",
     "output_type": "stream",
     "text": [
      "(0.9029411764705882, 0.7752941176470588, 0.023529411764705882, 0.023529411764705882)\n"
     ]
    }
   ],
   "source": [
    "from aug import apply_defect"
   ]
  },
  {
   "cell_type": "code",
   "execution_count": 18,
   "metadata": {},
   "outputs": [],
   "source": [
    "# Функция для сохранения маски\n",
    "def save_mask(mask, folder, image_name):\n",
    "    # Указываем путь для сохранения\n",
    "    mask_filename = os.path.join(folder, f\"MASK.{image_name}\")\n",
    "    cv2.imwrite(mask_filename, mask)"
   ]
  },
  {
   "cell_type": "code",
   "execution_count": 28,
   "metadata": {},
   "outputs": [],
   "source": [
    "image_folder = 'res\\\\images\\\\back'\n",
    "output_folder = 'res\\\\images\\\\output'"
   ]
  },
  {
   "cell_type": "code",
   "execution_count": 130,
   "metadata": {},
   "outputs": [],
   "source": [
    "defects_path = 'res\\\\defects'\n",
    "defect1 = 'badlock'\n",
    "defect2 = 'missing_screw'\n",
    "\n",
    "# Пути к дефектам\n",
    "defects_path1 = os.path.join(defects_path, defect1)\n",
    "defects_list1 = os.listdir(defects_path1)\n",
    "defects_path2 = os.path.join(defects_path, defect2)\n",
    "defects_list2 = os.listdir(defects_path2)\n",
    "\n",
    "defects_list = [(defects_path1, defects_list1, 1), (defects_path2, defects_list2, 0)]  # Список всех дефектов\n",
    "\n",
    "# ¯\\_(ツ)_/¯ Возможно избыточный код, но ладно\n",
    "\n",
    "\n",
    "N = 6  # Задаем максимальное количество дефектов\n",
    "\n",
    "for image_name in os.listdir(image_folder):\n",
    "    if not image_name.lower().endswith(('.jpg', '.jpeg', '.webp')):\n",
    "        continue\n",
    "    \n",
    "    # Загружаем изображение\n",
    "    \n",
    "    \n",
    "    for i in range(15):\n",
    "\n",
    "        image_path = os.path.join(image_folder, image_name)\n",
    "        laptop_img = cv2.imread(image_path)\n",
    "        mask_name = os.path.join(image_folder, 'masks', f'MASK.{image_name}')\n",
    "        mask_img = cv2.imread(mask_name, 0)\n",
    "            # Приводим маску к размеру изображения\n",
    "        mask_resized = cv2.resize(mask_img, (laptop_img.shape[1], laptop_img.shape[0]))\n",
    "\n",
    "        mask_resized = eroded_mask = cv2.erode(mask_resized, np.ones((5, 5), np.uint8), iterations=1)\n",
    "\n",
    "        # Список для YOLO-формата bounding boxes\n",
    "        yolo_bboxes = []\n",
    "\n",
    "        # Определяем случайное количество дефектов (от 1 до 6)\n",
    "        num_defects = random.randint(1, N)\n",
    "\n",
    "        for _ in range(num_defects):\n",
    "            # Случайно выбираем дефект\n",
    "            defect_path, defect_list, label = random.choice(defects_list)\n",
    "            \n",
    "\n",
    "\n",
    "            defect_name = random.choice(defect_list)\n",
    "            defect_img = cv2.imread(os.path.join(defect_path, defect_name))\n",
    "\n",
    "\n",
    "            \n",
    "            # Задаем радиус дефекта\n",
    "            radius = int(laptop_img.shape[0] / 60) + random.randint(-3, 3)\n",
    "\n",
    "            if radius <= 5:\n",
    "                radius = 5\n",
    "            \n",
    "            # Накладываем дефект и получаем bbox в YOLO-формате\n",
    "            result, bbox = apply_defect(laptop_img, defect_img, mask_resized, radius=radius)\n",
    "            \n",
    "            # bbox в формате YOLO: [x_center, y_center, width, height]\n",
    "            x_center, y_center, bbox_width, bbox_height = bbox\n",
    "            \n",
    "            img_h, img_w = laptop_img.shape[:2]\n",
    "            \n",
    "            # Преобразуем координаты из нормализованного YOLO-формата в пиксели\n",
    "            x_min = int((x_center - bbox_width / 2) * img_w) - 2\n",
    "            y_min = int((y_center - bbox_height / 2) * img_h) - 2\n",
    "            x_max = int((x_center + bbox_width / 2) * img_w) + 2\n",
    "            y_max = int((y_center + bbox_height / 2) * img_h) + 2\n",
    "            \n",
    "            # Вычитаем bbox из маски\n",
    "            mask_resized[y_min:y_max, x_min:x_max] = 0  # Обновляем маску, вычитая область дефекта\n",
    "            \n",
    "\n",
    "            # Сохраняем YOLO bbox\n",
    "            yolo_bboxes.append([label, x_center, y_center, bbox_width, bbox_height])\n",
    "\n",
    "        # print(image_name, image_name.split('.')[0])\n",
    "\n",
    "        # Сохраняем изображение с дефектами и обведенными bbox\n",
    "        output_image_path = os.path.join('res\\\\output\\\\imgs', f'defect_{i}_{image_name}')\n",
    "        cv2.imwrite(output_image_path, result)\n",
    "\n",
    "        # Сохраняем YOLO bbox в текстовый файл\n",
    "        img_labels = image_name.split('.')[0]\n",
    "        output_bbox_path = os.path.join('res\\\\output\\\\labels', f'defect_{i}_{img_labels}.txt')\n",
    "        with open(output_bbox_path, 'w') as f:\n",
    "            for bbox in yolo_bboxes:\n",
    "                f.write(f\"{bbox[0]} {bbox[1]} {bbox[2]} {bbox[3]} {bbox[4]}\\n\")"
   ]
  },
  {
   "cell_type": "code",
   "execution_count": 131,
   "metadata": {},
   "outputs": [],
   "source": [
    "image_folder = 'res\\\\images\\\\monitor'\n",
    "output_folder = 'res\\\\output'"
   ]
  },
  {
   "cell_type": "code",
   "execution_count": 137,
   "metadata": {},
   "outputs": [],
   "source": [
    "def draw_dead_pixel(laptop_img, mask_resized):\n",
    "    # Получаем координаты всех белых пикселей (где маска равна 255)\n",
    "    screen_pixels = np.where(mask_resized == 255)\n",
    "    \n",
    "    if len(screen_pixels[0]) == 0 or len(screen_pixels[1]) == 0:\n",
    "        print(\"Маска не содержит области для дефекта.\")\n",
    "        return laptop_img, None\n",
    "    \n",
    "    # Выбираем случайные координаты внутри маски\n",
    "    idx = random.randint(0, len(screen_pixels[0]) - 1)\n",
    "    y, x = screen_pixels[0][idx], screen_pixels[1][idx]\n",
    "\n",
    "    # Случайный размер пикселя (например, от 2x2 до 10x10)\n",
    "    pixel_size = random.randint(2, 10)\n",
    "\n",
    "    # Случайный цвет пикселя\n",
    "    pixel_color = [random.randint(0, 255) for _ in range(3)]  # RGB\n",
    "    \n",
    "    # Рисуем пиксель на изображении\n",
    "    top_left = (x - pixel_size // 2, y - pixel_size // 2)\n",
    "    bottom_right = (x + pixel_size // 2, y + pixel_size // 2)\n",
    "    cv2.rectangle(laptop_img, top_left, bottom_right, pixel_color, -1)\n",
    "\n",
    "    # Вычисляем bounding box в формате YOLO\n",
    "    img_h, img_w = laptop_img.shape[:2]\n",
    "    \n",
    "    # Центр bounding box\n",
    "    center_x = (top_left[0] + bottom_right[0]) / 2\n",
    "    center_y = (top_left[1] + bottom_right[1]) / 2\n",
    "    \n",
    "    # Ширина и высота bounding box\n",
    "    bbox_width = bottom_right[0] - top_left[0]\n",
    "    bbox_height = bottom_right[1] - top_left[1]\n",
    "\n",
    "    # YOLO формат: (x_center, y_center, width, height) в относительных координатах (0-1)\n",
    "    bbox = [\n",
    "        center_x / img_w,\n",
    "        center_y / img_h,\n",
    "        bbox_width / img_w,\n",
    "        bbox_height / img_h\n",
    "    ]\n",
    "\n",
    "    return laptop_img, bbox"
   ]
  },
  {
   "cell_type": "code",
   "execution_count": 145,
   "metadata": {},
   "outputs": [
    {
     "ename": "ImportError",
     "evalue": "cannot import name 'draw_dead_pixel' from 'aug' (c:\\Jup\\Новая папка\\project\\yolo_v11_test\\model\\aug.py)",
     "output_type": "error",
     "traceback": [
      "\u001B[1;31m---------------------------------------------------------------------------\u001B[0m",
      "\u001B[1;31mImportError\u001B[0m                               Traceback (most recent call last)",
      "Cell \u001B[1;32mIn[145], line 1\u001B[0m\n\u001B[1;32m----> 1\u001B[0m \u001B[38;5;28;01mfrom\u001B[39;00m \u001B[38;5;21;01maug\u001B[39;00m \u001B[38;5;28;01mimport\u001B[39;00m draw_dead_pixel\n",
      "\u001B[1;31mImportError\u001B[0m: cannot import name 'draw_dead_pixel' from 'aug' (c:\\Jup\\Новая папка\\project\\yolo_v11_test\\model\\aug.py)"
     ]
    }
   ],
   "source": [
    "from aug import draw_dead_pixel"
   ]
  },
  {
   "cell_type": "code",
   "execution_count": 143,
   "metadata": {},
   "outputs": [
    {
     "name": "stdout",
     "output_type": "stream",
     "text": [
      "[0.4075, 0.3075, 0.00125, 0.0016666666666666668]\n"
     ]
    },
    {
     "data": {
      "text/plain": [
       "True"
      ]
     },
     "execution_count": 143,
     "metadata": {},
     "output_type": "execute_result"
    }
   ],
   "source": [
    "\n",
    "laptop_img = cv2.imread('res\\\\images\\\\monitor\\\\57.jpg')\n",
    "mask_img = cv2.imread('res\\\\images\\\\monitor\\\\masks\\\\MASK.57.jpg', 0)  # Маска (ч/б изображение), указывающая области для дефектов\n",
    "mask_resized = cv2.resize(mask_img, (laptop_img.shape[1], laptop_img.shape[0]))\n",
    "# Применение дефекта\n",
    "result, bbox = draw_dead_pixel(laptop_img, mask_resized)\n",
    "print (bbox)\n",
    "# Сохранение результата\n",
    "cv2.imwrite('res/laptop_with_defect.jpg', result)"
   ]
  },
  {
   "cell_type": "code",
   "execution_count": 135,
   "metadata": {},
   "outputs": [
    {
     "name": "stdout",
     "output_type": "stream",
     "text": [
      "---\n",
      "res\\images\\monitor\\57.jpg\n",
      "res\\images\\monitor\\masks\\MASK.57.jpg\n",
      "---\n",
      "res\\images\\monitor\\6443441131.jpg\n",
      "res\\images\\monitor\\masks\\MASK.6443441131.jpg\n",
      "---\n",
      "res\\images\\monitor\\6573311632.jpg\n",
      "res\\images\\monitor\\masks\\MASK.6573311632.jpg\n",
      "---\n",
      "res\\images\\monitor\\8XlofP_LzRb-77SSDwv9QHYCGwWfLhRCIvqhxWfRTnVhYqruuT47lLXZU2nWk5gdoS5owPNa8IAvprmJr7QHxmUp_GyoWg0Xu_12AQmI-UUlBUvAz6hVQ_S5tJ792VJ87ignZebiJgehjMb8UBYJGC6hLZXxQvtXsfl3yb3qUZC0.webp\n",
      "res\\images\\monitor\\masks\\MASK.8XlofP_LzRb-77SSDwv9QHYCGwWfLhRCIvqhxWfRTnVhYqruuT47lLXZU2nWk5gdoS5owPNa8IAvprmJr7QHxmUp_GyoWg0Xu_12AQmI-UUlBUvAz6hVQ_S5tJ792VJ87ignZebiJgehjMb8UBYJGC6hLZXxQvtXsfl3yb3qUZC0.webp\n",
      "---\n",
      "res\\images\\monitor\\akrales_180611_2654_0007.jpg\n",
      "res\\images\\monitor\\masks\\MASK.akrales_180611_2654_0007.jpg\n",
      "---\n",
      "res\\images\\monitor\\d72134a9d1bbe602f111ee82880c6756.jpeg\n",
      "res\\images\\monitor\\masks\\MASK.d72134a9d1bbe602f111ee82880c6756.jpeg\n",
      "---\n",
      "res\\images\\monitor\\i.webp\n",
      "res\\images\\monitor\\masks\\MASK.i.webp\n",
      "---\n",
      "res\\images\\monitor\\maxresdefault (1).jpg\n",
      "res\\images\\monitor\\masks\\MASK.maxresdefault (1).jpg\n",
      "---\n",
      "res\\images\\monitor\\maxresdefault.jpg\n",
      "res\\images\\monitor\\masks\\MASK.maxresdefault.jpg\n",
      "---\n",
      "res\\images\\monitor\\orig (1).webp\n",
      "res\\images\\monitor\\masks\\MASK.orig (1).webp\n",
      "---\n",
      "res\\images\\monitor\\orig.webp\n",
      "res\\images\\monitor\\masks\\MASK.orig.webp\n",
      "---\n",
      "res\\images\\monitor\\original.jpg\n",
      "res\\images\\monitor\\masks\\MASK.original.jpg\n",
      "---\n",
      "res\\images\\monitor\\Razer-Blade-15-title.webp\n",
      "res\\images\\monitor\\masks\\MASK.Razer-Blade-15-title.webp\n",
      "---\n",
      "res\\images\\monitor\\scale_1200.jpeg\n",
      "res\\images\\monitor\\masks\\MASK.scale_1200.jpeg\n"
     ]
    }
   ],
   "source": [
    "for image_name in os.listdir(image_folder):\n",
    "    # Пропускаем файлы, которые не являются изображениями\n",
    "    if not image_name.lower().endswith(('.jpg', '.jpeg', '.webp')):\n",
    "        continue\n",
    "    mask_name = os.path.join(image_folder, 'masks')\n",
    "    mask_name = os.path.join(mask_name, f'MASK.{image_name}')\n",
    "\n",
    "\n",
    "    # Загружаем изображение\n",
    "    image_path = os.path.join(image_folder, image_name)\n",
    "    laptop_img = cv2.imread(image_path)\n",
    "    print('---')\n",
    "    if laptop_img is not None:\n",
    "        print(image_path)\n",
    "\n",
    "\n",
    "\n",
    "    mask_img = cv2.imread(mask_name, 0) \n",
    "    mask_resized = cv2.resize(mask_img, (laptop_img.shape[1], laptop_img.shape[0]))\n",
    "\n",
    "    if mask_img is not None:\n",
    "        print(mask_name)\n",
    "    \n",
    "\n",
    "   "
   ]
  }
 ],
 "metadata": {
  "kernelspec": {
   "display_name": "torch-env",
   "language": "python",
   "name": "python3"
  },
  "language_info": {
   "codemirror_mode": {
    "name": "ipython",
    "version": 3
   },
   "file_extension": ".py",
   "mimetype": "text/x-python",
   "name": "python",
   "nbconvert_exporter": "python",
   "pygments_lexer": "ipython3",
   "version": "3.11.5"
  }
 },
 "nbformat": 4,
 "nbformat_minor": 2
}
